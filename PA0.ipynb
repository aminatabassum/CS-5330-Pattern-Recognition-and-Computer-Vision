{
 "cells": [
  {
   "cell_type": "code",
   "execution_count": 10,
   "id": "98d46e3f",
   "metadata": {},
   "outputs": [
    {
     "name": "stdout",
     "output_type": "stream",
     "text": [
      "cute\n",
      "True\n",
      "wet\n",
      "cute\n",
      "N/A\n"
     ]
    }
   ],
   "source": [
    "d={'cat':'cute', 'dog':'furry'}\n",
    "print(d['cat'])\n",
    "print ('cat' in d)\n",
    "d['fish']='wet'\n",
    "print(d['fish'])\n",
    "print(d.get('cat','N/A'))\n",
    "del d['fish']\n",
    "print(d.get('fish', 'N/A'))\n"
   ]
  },
  {
   "cell_type": "code",
   "execution_count": null,
   "id": "5e48c198",
   "metadata": {},
   "outputs": [],
   "source": []
  }
 ],
 "metadata": {
  "kernelspec": {
   "display_name": "Python 3 (ipykernel)",
   "language": "python",
   "name": "python3"
  },
  "language_info": {
   "codemirror_mode": {
    "name": "ipython",
    "version": 3
   },
   "file_extension": ".py",
   "mimetype": "text/x-python",
   "name": "python",
   "nbconvert_exporter": "python",
   "pygments_lexer": "ipython3",
   "version": "3.8.10"
  }
 },
 "nbformat": 4,
 "nbformat_minor": 5
}

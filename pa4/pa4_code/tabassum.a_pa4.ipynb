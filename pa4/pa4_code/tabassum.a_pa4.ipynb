{
 "cells": [
  {
   "cell_type": "markdown",
   "metadata": {},
   "source": [
    "# Programming assignment 4: Convolutional Neural Networks (100 points)\n",
    "(adapted from the work done by Erik Learned-Miller, which was originally developed by Fei-Fei Li, Andrej Karpathy, and Justin Johnson)\n",
    "\n",
    "## Overview\n",
    "<font size='4'> In this assignment you will practice putting together a Convolution Neural Network (CNN) classification pipeline. So far we have worked with deep fully-connected networks, using them to explore different optimization strategies and network architectures. Fully-connected networks are a good testbed for experimentation because they are very computationally efficient, but in practice all state-of-the-art results use convolutional networks instead.\n",
    "\n",
    "<font size='4'>In this assignment, you will implement several layer types that are used in convolutional networks. You will then use these layers to train a convolutional network on the CIFAR-10 dataset.\n",
    "\n",
    "## Submission format\n",
    "* <font size='4'>`<your_nu_username>_pa4.ipynb`\n",
    "    \n",
    "## Note: \n",
    "* <font size='4'>Do not install any additional packages inside the conda environment. The TAs will use the same environment as defined in the config files we provide you, so anything that’s not in there by default will probably cause your code to break during grading. Failure to follow any of these instructions will lead to point deductions. \n",
    "* <font size='4'>We have some inline questions embedded in the Jupyter notebook files. Do not miss them.\n",
    "* <font size='4' color='red'>Unless specified otherwise, no for loops are allowed."
   ]
  },
  {
   "cell_type": "markdown",
   "metadata": {},
   "source": [
    "## setup"
   ]
  },
  {
   "cell_type": "code",
   "execution_count": 1,
   "metadata": {},
   "outputs": [],
   "source": [
    "# As usual, a bit of setup\n",
    "from __future__ import print_function\n",
    "import time\n",
    "import numpy as np\n",
    "import matplotlib.pyplot as plt\n",
    "# from utils.classifiers.fc_net import *\n",
    "from utils.data_utils import get_CIFAR10_data\n",
    "from utils.gradient_check import eval_numerical_gradient, eval_numerical_gradient_array\n",
    "from utils.solver import Solver\n",
    "\n",
    "%matplotlib inline\n",
    "plt.rcParams['figure.figsize'] = (10.0, 8.0) # set default size of plots\n",
    "plt.rcParams['image.interpolation'] = 'nearest'\n",
    "plt.rcParams['image.cmap'] = 'gray'\n",
    "\n",
    "# for auto-reloading external modules\n",
    "# see http://stackoverflow.com/questions/1907993/autoreload-of-modules-in-ipython\n",
    "%load_ext autoreload\n",
    "%autoreload 2\n",
    "\n",
    "def rel_error(x, y):\n",
    "    \"\"\" returns relative error \"\"\"\n",
    "    return np.max(np.abs(x - y) / (np.maximum(1e-8, np.abs(x) + np.abs(y))))"
   ]
  },
  {
   "cell_type": "code",
   "execution_count": 2,
   "metadata": {},
   "outputs": [],
   "source": [
    "# You implemented such functions in PA3. Here are some reference implementations.\n",
    "from utils.layers import affine_forward, affine_backward, relu_forward, relu_backward, softmax_loss"
   ]
  },
  {
   "cell_type": "code",
   "execution_count": 3,
   "metadata": {},
   "outputs": [
    {
     "name": "stdout",
     "output_type": "stream",
     "text": [
      "/home/amina/Desktop/pa4/datasets\n",
      "  % Total    % Received % Xferd  Average Speed   Time    Time     Time  Current\n",
      "                                 Dload  Upload   Total   Spent    Left  Speed\n",
      "100  162M  100  162M    0     0  6280k      0  0:00:26  0:00:26 --:--:-- 5463k\n",
      "cifar-10-batches-py/\n",
      "cifar-10-batches-py/data_batch_4\n",
      "cifar-10-batches-py/readme.html\n",
      "cifar-10-batches-py/test_batch\n",
      "cifar-10-batches-py/data_batch_3\n",
      "cifar-10-batches-py/batches.meta\n",
      "cifar-10-batches-py/data_batch_2\n",
      "cifar-10-batches-py/data_batch_5\n",
      "cifar-10-batches-py/data_batch_1\n"
     ]
    }
   ],
   "source": [
    "# let's download the data\n",
    "%cd ../datasets\n",
    "\n",
    "# 1 -- Linux \n",
    "# 2 -- MacOS\n",
    "# 3 -- Command Prompt on Windows\n",
    "# 4 -- manually downloading the data\n",
    "choice = 3\n",
    "\n",
    "\n",
    "if choice == 1:\n",
    "    # should work well on Linux and in Powershell on Windows\n",
    "    !wget http://www.cs.toronto.edu/~kriz/cifar-10-python.tar.gz\n",
    "elif choice == 2 or choice ==3:\n",
    "    # if wget is not available for you, try curl\n",
    "    # should work well on MacOS\n",
    "    !curl http://www.cs.toronto.edu/~kriz/cifar-10-python.tar.gz --output cifar-10-python.tar.gz\n",
    "else:\n",
    "    print('Please manually download the data from http://www.cs.toronto.edu/~kriz/cifar-10-python.tar.gz and put it under the datasets folder.')\n",
    "!tar -xzvf cifar-10-python.tar.gz\n",
    "\n",
    "if choice==3:\n",
    "    !rm cifar-10-python.tar.gz\n",
    "else:\n",
    "    !rm cifar-10-python.tar.gz"
   ]
  },
  {
   "cell_type": "code",
   "execution_count": 4,
   "metadata": {},
   "outputs": [
    {
     "name": "stdout",
     "output_type": "stream",
     "text": [
      "('X_train: ', (49000, 3, 32, 32))\n",
      "('y_train: ', (49000,))\n",
      "('X_val: ', (1000, 3, 32, 32))\n",
      "('y_val: ', (1000,))\n",
      "('X_test: ', (1000, 3, 32, 32))\n",
      "('y_test: ', (1000,))\n"
     ]
    }
   ],
   "source": [
    "# Load the (preprocessed) CIFAR10 data.\n",
    "cifar10_dir = '../datasets/cifar-10-batches-py'\n",
    "\n",
    "data = get_CIFAR10_data(cifar10_dir)\n",
    "for k, v in list(data.items()):\n",
    "    print(('%s: ' % k, v.shape))"
   ]
  },
  {
   "cell_type": "markdown",
   "metadata": {},
   "source": [
    "## Part 1: Convolution layers (20 points)"
   ]
  },
  {
   "cell_type": "markdown",
   "metadata": {},
   "source": [
    "<font size=\"4\" color=\"red\">**task 1.1: forward pass of a convolution layer. At most two nested for loops are allowed (10 points).**"
   ]
  },
  {
   "cell_type": "code",
   "execution_count": 5,
   "metadata": {},
   "outputs": [],
   "source": [
    "def conv_forward_naive(x, w, b, conv_param):\n",
    "\n",
    "    pad_parameter,stride_parameter = conv_param['pad'] ,conv_param['stride']\n",
    "    # get input parameters\n",
    "    N,C,H,W=x.shape\n",
    "    # get filter parameters\n",
    "    F,_,HH,WW=w.shape\n",
    "    # shape of output parameters hight and width\n",
    "    H_bar=1+(H+2*pad_parameter-HH)//stride_parameter\n",
    "    W_bar=1+(W+2*pad_parameter-WW)//stride_parameter\n",
    "    # initilaize output array\n",
    "    out=np.zeros((N,F,H_bar,W_bar))\n",
    "    #flatten filter matrix by number of filters to avoid for loop\n",
    "    flattened_w=w.reshape(F,-1)\n",
    "  \n",
    "    # padding of input \n",
    "    x=np.pad(x,((0,),(0,),(pad_parameter,),(pad_parameter,)),mode='constant',constant_values=0)\n",
    "    for i in range(H_bar):\n",
    "\n",
    "        for j in range(W_bar):\n",
    "            conv_x=x[:,:,i*stride_parameter:i*stride_parameter+HH,j*stride_parameter:j*stride_parameter+WW]\n",
    "            #flatten it to get output w*x\n",
    "            flconv_x=conv_x.reshape(N,-1) \n",
    "            # single step convolution + bias\n",
    "            output=flconv_x.dot(flattened_w.T)+b\n",
    "            out[:,:,i,j]=output\n",
    "  \n",
    "    \n",
    "    cache = (x, w, b, conv_param)\n",
    "    return out, cache"
   ]
  },
  {
   "cell_type": "code",
   "execution_count": 6,
   "metadata": {},
   "outputs": [
    {
     "name": "stdout",
     "output_type": "stream",
     "text": [
      "Testing conv_forward_naive\n",
      "difference:  2.2121476575931688e-08\n"
     ]
    }
   ],
   "source": [
    "# check your forward pass implementation\n",
    "x_shape = (2, 3, 4, 4)\n",
    "w_shape = (3, 3, 4, 4)\n",
    "x = np.linspace(-0.1, 0.5, num=np.prod(x_shape)).reshape(x_shape)\n",
    "w = np.linspace(-0.2, 0.3, num=np.prod(w_shape)).reshape(w_shape)\n",
    "b = np.linspace(-0.1, 0.2, num=3)\n",
    "\n",
    "conv_param = {'stride': 2, 'pad': 1}\n",
    "out, _ = conv_forward_naive(x, w, b, conv_param)\n",
    "correct_out = np.array([[[[-0.08759809, -0.10987781],\n",
    "                           [-0.18387192, -0.2109216 ]],\n",
    "                          [[ 0.21027089,  0.21661097],\n",
    "                           [ 0.22847626,  0.23004637]],\n",
    "                          [[ 0.50813986,  0.54309974],\n",
    "                           [ 0.64082444,  0.67101435]]],\n",
    "                         [[[-0.98053589, -1.03143541],\n",
    "                           [-1.19128892, -1.24695841]],\n",
    "                          [[ 0.69108355,  0.66880383],\n",
    "                           [ 0.59480972,  0.56776003]],\n",
    "                          [[ 2.36270298,  2.36904306],\n",
    "                           [ 2.38090835,  2.38247847]]]])\n",
    "\n",
    "# Compare your output to ours; difference should be around e-8\n",
    "print('Testing conv_forward_naive')\n",
    "print('difference: ', rel_error(out, correct_out))"
   ]
  },
  {
   "cell_type": "markdown",
   "metadata": {},
   "source": [
    "<font size=\"4\" color=\"red\">**task 1.2: backward pass of a convolution layer. At most two nested for loops are allowed (10 points).**"
   ]
  },
  {
   "cell_type": "code",
   "execution_count": 7,
   "metadata": {},
   "outputs": [],
   "source": [
    "def conv_backward_naive(dout, cache):\n",
    "\n",
    "    dx, dw, db = None, None, None\n",
    "    \n",
    "    ###########################################################################\n",
    "    ## unpack cache tuple\n",
    "\n",
    "    x,w,b,conv_param=cache\n",
    "    #initialize padding and stride \n",
    "    pad_parameter,stride_parameter=conv_param['pad'],conv_param['stride']\n",
    "    #unpack filter weights\n",
    "    F,C,HH,WW=w.shape\n",
    "    #unpack output \n",
    "    N,_,H_bar,W_bar=dout.shape\n",
    "    #initialize gradients\n",
    "    dx=np.zeros(x.shape)\n",
    "    dw=np.zeros(w.shape)\n",
    "    db=np.zeros(b.shape)\n",
    "    #reshape weights by number of filters\n",
    "    flattened_w=w.reshape(F,-1)\n",
    "\n",
    "    for i in range(H_bar):\n",
    "        for j in range(W_bar):\n",
    "            dout_tra=dout[:,:,i,j]\n",
    "            # confirm this line \n",
    "            dx_tra_fla=dout_tra.dot(flattened_w)\n",
    "            dx_tra=dx_tra_fla.reshape(N,C,HH,WW)\n",
    "            #compute dx\n",
    "            dx[:,:,i*stride_parameter:i*stride_parameter+HH,j*stride_parameter:j*stride_parameter+WW] += dx_tra\n",
    "\n",
    "            x_tra=x[:,:,i*stride_parameter:i*stride_parameter+HH,j*stride_parameter:j*stride_parameter+WW]\n",
    "            x_tra_flattened=x_tra.reshape(N,-1)\n",
    "            #compute dw\n",
    "            dw += dout_tra.T.dot(x_tra_flattened).reshape(dw.shape)\n",
    "            #compute db\n",
    "            db += dout_tra.sum(axis=0)\n",
    "\n",
    "    dx=dx[:,:,pad_parameter:-pad_parameter,pad_parameter:-pad_parameter]\n",
    "          \n",
    "    return dx, dw, db"
   ]
  },
  {
   "cell_type": "code",
   "execution_count": 8,
   "metadata": {},
   "outputs": [
    {
     "name": "stdout",
     "output_type": "stream",
     "text": [
      "Testing conv_backward_naive function\n",
      "dx error:  7.99015495883212e-09\n",
      "dw error:  2.6782772496622533e-10\n",
      "db error:  3.8835624065741535e-11\n"
     ]
    }
   ],
   "source": [
    "# gradient check\n",
    "np.random.seed(231)\n",
    "x = np.random.randn(4, 3, 5, 5)\n",
    "w = np.random.randn(2, 3, 3, 3)\n",
    "b = np.random.randn(2,)\n",
    "dout = np.random.randn(4, 2, 5, 5)\n",
    "conv_param = {'stride': 1, 'pad': 1}\n",
    "\n",
    "dx_num = eval_numerical_gradient_array(lambda x: conv_forward_naive(x, w, b, conv_param)[0], x, dout)\n",
    "dw_num = eval_numerical_gradient_array(lambda w: conv_forward_naive(x, w, b, conv_param)[0], w, dout)\n",
    "db_num = eval_numerical_gradient_array(lambda b: conv_forward_naive(x, w, b, conv_param)[0], b, dout)\n",
    "\n",
    "out, cache = conv_forward_naive(x, w, b, conv_param)\n",
    "dx, dw, db = conv_backward_naive(dout, cache)\n",
    "\n",
    "# Your errors should be around e-8 or less.\n",
    "print('Testing conv_backward_naive function')\n",
    "print('dx error: ', rel_error(dx, dx_num))\n",
    "print('dw error: ', rel_error(dw, dw_num))\n",
    "print('db error: ', rel_error(db, db_num))"
   ]
  },
  {
   "cell_type": "markdown",
   "metadata": {},
   "source": [
    "## Part 2: Spatial Batch Normalization (32 points)\n",
    "<font size='4'>Batch normalization is a very useful technique for training deep neural networks. As proposed in the original paper [1], batch normalization can also be used for convolutional networks, but we need to tweak it a bit; the modification will be called \"spatial batch normalization.\"\n",
    "\n",
    "<font size='4'>Normally batch-normalization accepts inputs of shape `(N, D)` and produces outputs of shape `(N, D)`, where we normalize across the minibatch dimension `N`. For data coming from convolutional layers, batch normalization needs to accept inputs of shape `(N, C, H, W)` and produce outputs of shape `(N, C, H, W)` where the `N` dimension gives the minibatch size and the `(H, W)` dimensions give the spatial size of the feature map.\n",
    "\n",
    "<font size='4'>If the feature map was produced using convolutions, then we expect the statistics of each feature channel to be relatively consistent both between different imagesand different locations within the same image. Therefore spatial batch normalization computes a mean and variance for each of the `C` feature channels by computing statistics over both the minibatch dimension `N` and the spatial dimensions `H` and `W`.\n",
    "\n",
    "\n",
    "[1] [Sergey Ioffe and Christian Szegedy, \"Batch Normalization: Accelerating Deep Network Training by Reducing\n",
    "Internal Covariate Shift\", ICML 2015.](https://arxiv.org/abs/1502.03167)"
   ]
  },
  {
   "cell_type": "markdown",
   "metadata": {},
   "source": [
    "<font size='4' color='red'>**Task 2.1: forward pass of a (normal) batch norm layer (10 points).**"
   ]
  },
  {
   "cell_type": "code",
   "execution_count": 9,
   "metadata": {},
   "outputs": [],
   "source": [
    "def batchnorm_forward(x, gamma, beta, bn_param):\n",
    "  \n",
    "    mode = bn_param['mode']\n",
    "    eps = bn_param.get('eps', 1e-5)\n",
    "    momentum = bn_param.get('momentum', 0.9)\n",
    "\n",
    "    N, D = x.shape\n",
    "    running_mean = bn_param.get('running_mean', np.zeros(D, dtype=x.dtype))\n",
    "    running_var = bn_param.get('running_var', np.zeros(D, dtype=x.dtype))\n",
    "\n",
    "    out, cache = None, None\n",
    "    if mode == 'train':\n",
    "       #compute mean\n",
    "        meann=np.mean(x,axis=0)\n",
    "        #compute variance of imput image\n",
    "        varriance=np.var(x,axis=0)\n",
    "        #compute approximated input image \n",
    "        x_app=(x-meann)/np.sqrt(varriance+eps)\n",
    "        #y=w^T *x +b\n",
    "        out=gamma*x_app+beta\n",
    "        #store in cache tuple\n",
    "        cache=(gamma,x,meann,varriance,eps,x_app)\n",
    "        running_mean=momentum*running_mean+(1-momentum)*meann\n",
    "        running_var=momentum*running_var+(1-momentum)*varriance\n",
    "    \n",
    "    elif mode == 'test':\n",
    "      \n",
    "        term=running_var+eps\n",
    "        sc=gamma/np.sqrt(term)\n",
    "        out=x*sc+(beta-running_mean*sc)\n",
    "      \n",
    "\n",
    "    else:\n",
    "        raise ValueError('Invalid forward batchnorm mode \"%s\"' % mode)\n",
    "\n",
    "    bn_param['running_mean'] = running_mean\n",
    "    bn_param['running_var'] = running_var\n",
    "\n",
    "    return out, cache"
   ]
  },
  {
   "cell_type": "markdown",
   "metadata": {},
   "source": [
    "<font size='4' color='red'>**Task 2.2: forward pass of a spatial batch norm layer (6 points).**"
   ]
  },
  {
   "cell_type": "code",
   "execution_count": 10,
   "metadata": {},
   "outputs": [],
   "source": [
    "def spatial_batchnorm_forward(x, gamma, beta, bn_param):\n",
    "   \n",
    "    out, cache = None, None\n",
    "\n",
    "    N,C,H,W=x.shape\n",
    "    #reshape input x for spatial batch normalization\n",
    "    reshaped_x=x.transpose(0,3,2,1).reshape((N*H*W,C))\n",
    "    #compute batchnormalization forward\n",
    "    out_int,cache=batchnorm_forward(reshaped_x,gamma,beta,bn_param)\n",
    "    #reshape output\n",
    "    out=out_int.reshape(N,W,H,C).transpose(0,3,2,1)\n",
    "\n",
    "    ###########################################################################\n",
    "    #                             END OF YOUR CODE                            #\n",
    "    ###########################################################################\n",
    "\n",
    "    return out, cache"
   ]
  },
  {
   "cell_type": "code",
   "execution_count": 11,
   "metadata": {},
   "outputs": [
    {
     "name": "stdout",
     "output_type": "stream",
     "text": [
      "Before spatial batch normalization:\n",
      "  Shape:  (2, 3, 4, 5)\n",
      "  Means:  [9.33463814 8.90909116 9.11056338]\n",
      "  Stds:  [3.61447857 3.19347686 3.5168142 ]\n",
      "After spatial batch normalization:\n",
      "  Shape:  (2, 3, 4, 5)\n",
      "  Means:  [ 1.38777878e-16  1.94289029e-17 -9.43689571e-17]\n",
      "  Stds:  [0.99999962 0.99999951 0.9999996 ]\n",
      "After spatial batch normalization (nontrivial gamma, beta):\n",
      "  Shape:  (2, 3, 4, 5)\n",
      "  Means:  [6. 7. 8.]\n",
      "  Stds:  [2.99999885 3.99999804 4.99999798]\n"
     ]
    }
   ],
   "source": [
    "np.random.seed(231)\n",
    "# Check the training-time forward pass by checking means and variances\n",
    "# of features both before and after spatial batch normalization\n",
    "\n",
    "N, C, H, W = 2, 3, 4, 5\n",
    "x = 4 * np.random.randn(N, C, H, W) + 10\n",
    "\n",
    "print('Before spatial batch normalization:')\n",
    "print('  Shape: ', x.shape)\n",
    "print('  Means: ', x.mean(axis=(0, 2, 3)))\n",
    "print('  Stds: ', x.std(axis=(0, 2, 3)))\n",
    "\n",
    "# Means should be close to zero and stds close to one\n",
    "gamma, beta = np.ones(C), np.zeros(C)\n",
    "bn_param = {'mode': 'train'}\n",
    "out, _ = spatial_batchnorm_forward(x, gamma, beta, bn_param)\n",
    "print('After spatial batch normalization:')\n",
    "print('  Shape: ', out.shape)\n",
    "print('  Means: ', out.mean(axis=(0, 2, 3)))\n",
    "print('  Stds: ', out.std(axis=(0, 2, 3)))\n",
    "\n",
    "# Means should be close to beta and stds close to gamma\n",
    "gamma, beta = np.asarray([3, 4, 5]), np.asarray([6, 7, 8])\n",
    "out, _ = spatial_batchnorm_forward(x, gamma, beta, bn_param)\n",
    "print('After spatial batch normalization (nontrivial gamma, beta):')\n",
    "print('  Shape: ', out.shape)\n",
    "print('  Means: ', out.mean(axis=(0, 2, 3)))\n",
    "print('  Stds: ', out.std(axis=(0, 2, 3)))"
   ]
  },
  {
   "cell_type": "code",
   "execution_count": 12,
   "metadata": {},
   "outputs": [
    {
     "name": "stdout",
     "output_type": "stream",
     "text": [
      "After spatial batch normalization (test-time):\n",
      "  means:  [-0.08034406  0.07562881  0.05716371  0.04378383]\n",
      "  stds:  [0.96718744 1.0299714  1.02887624 1.00585577]\n"
     ]
    }
   ],
   "source": [
    "np.random.seed(231)\n",
    "# Check the test-time forward pass by running the training-time\n",
    "# forward pass many times to warm up the running averages, and then\n",
    "# checking the means and variances of activations after a test-time\n",
    "# forward pass.\n",
    "N, C, H, W = 10, 4, 11, 12\n",
    "\n",
    "bn_param = {'mode': 'train'}\n",
    "gamma = np.ones(C)\n",
    "beta = np.zeros(C)\n",
    "for t in range(50):\n",
    "  x = 2.3 * np.random.randn(N, C, H, W) + 13\n",
    "  spatial_batchnorm_forward(x, gamma, beta, bn_param)\n",
    "bn_param['mode'] = 'test'\n",
    "x = 2.3 * np.random.randn(N, C, H, W) + 13\n",
    "a_norm, _ = spatial_batchnorm_forward(x, gamma, beta, bn_param)\n",
    "\n",
    "# Means should be close to zero and stds close to one, but will be\n",
    "# noisier than training-time forward passes.\n",
    "print('After spatial batch normalization (test-time):')\n",
    "print('  means: ', a_norm.mean(axis=(0, 2, 3)))\n",
    "print('  stds: ', a_norm.std(axis=(0, 2, 3)))"
   ]
  },
  {
   "cell_type": "markdown",
   "metadata": {},
   "source": [
    "<font size='4' color='red'>**Task 2.3: backward pass of a (normal) batch norm layer (10 points).**"
   ]
  },
  {
   "cell_type": "code",
   "execution_count": 13,
   "metadata": {},
   "outputs": [],
   "source": [
    "def batchnorm_backward(dout, cache):\n",
    "  \n",
    "    dx, dgamma, dbeta = None, None, None\n",
    "    #get parameters from cache\n",
    "    gamma,x,meann,varriance,eps,x_app= cache\n",
    "    N=x.shape[0]\n",
    "    #compute dx,dgamma and dvariance\n",
    "    dx_app=dout*gamma\n",
    "    #dvar=sum(dout*gamma*(x-mean(x))-1/2(variance+eps)^-3/2)\n",
    "    dvarriance=np.sum(dx_app*(x-meann)* -0.5 * np.power(varriance+eps, -1.5),axis=0)\n",
    "    #dmean=sum(dx_hat*-1/(sqrt(varriance+eps)+dvariance*avrage(-2(x-mean))))\n",
    "    dmeann=np.sum(dx_app *-1/np.sqrt(varriance+eps),axis=0)+dvarriance*np.mean(-2*(x-meann),axis=0)\n",
    "    dx=1/np.sqrt(varriance+eps)*dx_app+dvarriance*2/N *(x-meann)+1/N*dmeann\n",
    "    #dgamma=sum(x_hat*dout)\n",
    "    dgamma=np.sum(x_app*dout,axis=0)\n",
    "    \n",
    "    dbeta=np.sum(dout,axis=0)\n",
    "\n",
    "\n",
    "    return dx, dgamma, dbeta"
   ]
  },
  {
   "cell_type": "markdown",
   "metadata": {},
   "source": [
    "<font size='4' color='red'>**Task 2.4: backward pass of a spatial batch norm layer (6 points).**"
   ]
  },
  {
   "cell_type": "code",
   "execution_count": 14,
   "metadata": {},
   "outputs": [],
   "source": [
    "def spatial_batchnorm_backward(dout, cache):\n",
    "   \n",
    "    dx, dgamma, dbeta = None, None, None\n",
    "\n",
    "    N,C,H,W=dout.shape\n",
    "    dxx,dgamma,dbeta=batchnorm_backward(dout.transpose(0,3,2,1).reshape((N*H*W,C)),cache)\n",
    "    dx=dxx.reshape(N,W,H,C).transpose(0,3,2,1)\n",
    "\n",
    "    return dx, dgamma, dbeta"
   ]
  },
  {
   "cell_type": "code",
   "execution_count": 15,
   "metadata": {},
   "outputs": [
    {
     "name": "stdout",
     "output_type": "stream",
     "text": [
      "dx error:  3.423838616073709e-07\n",
      "dgamma error:  7.0963199356067174e-12\n",
      "dbeta error:  3.275380797385891e-12\n"
     ]
    }
   ],
   "source": [
    "# gradient check\n",
    "np.random.seed(231)\n",
    "N, C, H, W = 2, 3, 4, 5\n",
    "x = 5 * np.random.randn(N, C, H, W) + 12\n",
    "gamma = np.random.randn(C)\n",
    "beta = np.random.randn(C)\n",
    "dout = np.random.randn(N, C, H, W)\n",
    "\n",
    "bn_param = {'mode': 'train'}\n",
    "fx = lambda x: spatial_batchnorm_forward(x, gamma, beta, bn_param)[0]\n",
    "fg = lambda a: spatial_batchnorm_forward(x, gamma, beta, bn_param)[0]\n",
    "fb = lambda b: spatial_batchnorm_forward(x, gamma, beta, bn_param)[0]\n",
    "\n",
    "dx_num = eval_numerical_gradient_array(fx, x, dout)\n",
    "da_num = eval_numerical_gradient_array(fg, gamma, dout)\n",
    "db_num = eval_numerical_gradient_array(fb, beta, dout)\n",
    "\n",
    "#You should expect errors of magnitudes between 1e-12~1e-06\n",
    "_, cache = spatial_batchnorm_forward(x, gamma, beta, bn_param)\n",
    "dx, dgamma, dbeta = spatial_batchnorm_backward(dout, cache)\n",
    "print('dx error: ', rel_error(dx_num, dx))\n",
    "print('dgamma error: ', rel_error(da_num, dgamma))\n",
    "print('dbeta error: ', rel_error(db_num, dbeta))"
   ]
  },
  {
   "cell_type": "markdown",
   "metadata": {},
   "source": [
    "## Part 3: Global average pooling layer (12 points)\n",
    "<font size='4'> In AlexNet and VGG-like networks, a 2D convolution feature map is usually flattened to get a 1D feature vector, which is then fed into a fully-connected layer. Since ResNet, such flattening is no longer used. Instead, an global average pooing layer is used. Given a 2D feature map with shape of `(N, C, H, W)`, the mean across the dimension `H` and `W` are computed. As a result, we get a 2D feature map with shape of `(N, C, 1, 1)` that is equivalent to a 1D feature vector with shape of `(N, C)`."
   ]
  },
  {
   "cell_type": "markdown",
   "metadata": {},
   "source": [
    "<font size='4' color='red'>**Task 3.1: forward pass of the global average pooling layer (6 points).**"
   ]
  },
  {
   "cell_type": "code",
   "execution_count": 16,
   "metadata": {},
   "outputs": [],
   "source": [
    "def global_avg_pool_forward(x):\n",
    "\n",
    "    out, cache = None, None\n",
    "    \n",
    "  \n",
    "    N,C,H,W=x.shape\n",
    "    out=np.zeros((N,C))\n",
    "\n",
    "    out=np.mean(x,(2,3))\n",
    "\n",
    "   \n",
    "    cache=x\n",
    "\n",
    "    return out, cache"
   ]
  },
  {
   "cell_type": "code",
   "execution_count": 17,
   "metadata": {},
   "outputs": [
    {
     "name": "stdout",
     "output_type": "stream",
     "text": [
      "Testing global_avg_pool_forward\n",
      "difference:  2.7173913643149127e-08\n"
     ]
    }
   ],
   "source": [
    "# check your implementation\n",
    "x_shape = (2, 3, 4, 4)\n",
    "x = np.linspace(-0.1, 0.5, num=np.prod(x_shape)).reshape(x_shape)\n",
    "\n",
    "out, _ = global_avg_pool_forward(x)\n",
    "correct_out = np.array([\n",
    "    [-0.05263158,  0.04842105,  0.14947368],\n",
    "    [ 0.25052632,  0.35157895,  0.45263158]\n",
    "])\n",
    "\n",
    "# Compare your output to ours; difference should be around e-8\n",
    "print('Testing global_avg_pool_forward')\n",
    "print('difference: ', rel_error(out, correct_out))"
   ]
  },
  {
   "cell_type": "markdown",
   "metadata": {},
   "source": [
    "<font size='4' color='red'>**Task 3.2: backward pass of the global average pooling layer (6 points).**"
   ]
  },
  {
   "cell_type": "code",
   "execution_count": 18,
   "metadata": {},
   "outputs": [],
   "source": [
    "def global_avg_pool_backward(dout, cache):\n",
    "\n",
    "   \n",
    "    N,C,H,W=cache.shape\n",
    "    dx = np.zeros((N,C,H,W))\n",
    "    n=1/(H*W)\n",
    "    dout=np.reshape(dout,(N,C,1,1))\n",
    "    dout_tiled=np.tile(dout,(H,W))\n",
    "    # out = np.asarray([[np.average(x[i,j,:,:]) for j in range(C)] for i in range(N)])\n",
    "    dx= n*dout_tiled\n",
    "  \n",
    "    \n",
    "    return dx    "
   ]
  },
  {
   "cell_type": "code",
   "execution_count": 19,
   "metadata": {},
   "outputs": [
    {
     "name": "stdout",
     "output_type": "stream",
     "text": [
      "Testing global_avg_pool_backward function\n",
      "dx error:  5.501121908575301e-11\n"
     ]
    }
   ],
   "source": [
    "# gradient check\n",
    "np.random.seed(231)\n",
    "x = np.random.randn(4, 3, 5, 5)\n",
    "dout = np.random.randn(4, 3)\n",
    "\n",
    "dx_num = eval_numerical_gradient_array(lambda x: global_avg_pool_forward(x)[0], x, dout)\n",
    "\n",
    "out, cache = global_avg_pool_forward(x)\n",
    "dx = global_avg_pool_backward(dout, cache)\n",
    "\n",
    "# Your errors should be around e-8 or less.\n",
    "print('Testing global_avg_pool_backward function')\n",
    "print('dx error: ', rel_error(dx, dx_num))"
   ]
  },
  {
   "cell_type": "markdown",
   "metadata": {},
   "source": [
    "## Part 4: ConvNet (36 points)\n",
    "<font size='4'>Now that you have implemented all the necessary layers, we can put them together into a simple convolutional network."
   ]
  },
  {
   "cell_type": "markdown",
   "metadata": {},
   "source": [
    "<font size='4' color='red'>**Task 4.1: Implement a CNN. No nested for loops are allowed. You may need to use a single for loop at multiple places (20 points).**"
   ]
  },
  {
   "cell_type": "code",
   "execution_count": 20,
   "metadata": {},
   "outputs": [],
   "source": [
    "class ConvNet(object):\n",
    "    \"\"\"\n",
    "    A simple convolutional network with the following architecture:\n",
    "\n",
    "    [conv - bn - relu] x M - global_average_pooling - affine - softmax\n",
    "    \n",
    "    \"[conv - bn - relu] x M\" means the \"conv-bn-relu\" block is repeated for\n",
    "    M times, where M is implicitly defined by the convolution layers' parameters.\n",
    "    Whether to use the batch normalization layer (bn) in-between is a design choice.\n",
    "    \n",
    "    For each convolution layer, we do downsampling of factor 2 by setting the stride\n",
    "    to be 2. So we can have a large receptive field size.\n",
    "\n",
    "    The network operates on minibatches of data that have shape (N, C, H, W)\n",
    "    consisting of N images, each with height H and width W and with C input\n",
    "    channels.\n",
    "    \"\"\"\n",
    "\n",
    "    def __init__(self, input_dim=(3, 32, 32), num_filters=[32], filter_sizes=[7],\n",
    "            num_classes=10, weight_scale=1e-3, reg=0.0, use_batch_norm=True, \n",
    "            dtype=np.float32):\n",
    "        \"\"\"\n",
    "        Initialize a new network.\n",
    "\n",
    "        Inputs:\n",
    "        - input_dim: Tuple (C, H, W) giving size of input data\n",
    "        - num_filters: Number of filters to use in the convolutional layer. It is a\n",
    "          list whose length defines the number of convolution layers\n",
    "        - filter_sizes: Width/height of filters to use in the convolutional layer. It\n",
    "          is a list with the same length with num_filters\n",
    "        - num_classes: Number of output classes\n",
    "        - weight_scale: Scalar giving standard deviation for random initialization\n",
    "          of weights.\n",
    "        - reg: Scalar giving L2 regularization strength\n",
    "        - use_batch_norm: A boolean variable indicating whether to use batch normalization\n",
    "        - dtype: numpy datatype to use for computation.\n",
    "        \"\"\"\n",
    "        self.params = {}\n",
    "        self.param_st={}\n",
    "        self.reg = reg\n",
    "        self.dtype = dtype\n",
    "\n",
    "     \n",
    "        \n",
    "        \n",
    "        assert len(num_filters) == len(filter_sizes)\n",
    "   \n",
    "        C,H,W=input_dim  \n",
    "        self.bn=use_batch_norm  \n",
    "        M=len(num_filters)\n",
    "        self.M=M\n",
    "        \n",
    "        for l in range(M):\n",
    "          # print('no of iter is',l)\n",
    "          param_st=\"param\"+str(l)\n",
    "          if use_batch_norm== True:\n",
    "            self.params['beta'+str(l)]=np.zeros(num_filters[l])\n",
    "            self.params['gamma'+str(l)]=np.ones(num_filters[l])\n",
    "          K=filter_sizes[l]\n",
    "          if l==0:\n",
    "            self.params[\"w\"+str(l)]=np.random.normal(0,weight_scale,size=(num_filters[l],C,K,K))\n",
    "            self.params[\"b\"+str(l)]=np.zeros(num_filters[l])\n",
    "            self.param_st[param_st]={'stride':1,'pad':(K-1)//2}\n",
    "            # self.params['stride'+str(l)]=1\n",
    "            # self.params['pad'+str(l)]=(K-1)//2\n",
    "            C=num_filters[l]\n",
    "          else:\n",
    "            self.params['w'+str(l)]=np.random.normal(0,weight_scale,size=(num_filters[l],C,K,K))\n",
    "            self.params['b'+str(l)]=np.zeros(num_filters[l])\n",
    "            self.param_st[param_st]={'stride':1,'pad':(K-1)//2}\n",
    "            # self.params['stride'+str(l)]=2\n",
    "            # self.params['pad'+str(l)]=(K-1)//2\n",
    "            C=num_filters[l]\n",
    "\n",
    "    \n",
    "\n",
    "          self.params['w_aff']=np.random.normal(0,weight_scale,size=(num_filters[M-1],num_classes))\n",
    "          self.params['b_aff']=np.zeros(num_classes)\n",
    "\n",
    "         \n",
    "      \n",
    "        ############################################################################\n",
    "        #                             END OF YOUR CODE                             #\n",
    "        ############################################################################\n",
    "\n",
    "        for k, v in self.params.items():\n",
    "          # print(k)\n",
    "          self.params[k] = v.astype(self.dtype)\n",
    "\n",
    "\n",
    "    def loss(self, X, y=None):\n",
    "     \n",
    "        scores = None\n",
    "        mode = 'test' if y is None else 'train'\n",
    "        ############################################################################\n",
    "        # TODO: Implement the forward pass for the simple convolutional net,       #\n",
    "        # computing the class scores for X and storing them in the scores          #\n",
    "        # variable.                                                                #\n",
    "        ############################################################################\n",
    "       # raise NotImplementedError\n",
    "        conv_cache={}\n",
    "        batch_cache={}\n",
    "        relu_cache={}\n",
    "\n",
    "        for l in range(self.M):\n",
    "          # print('no of iter for forward pass is',l)\n",
    "          param_st='param'+ str(l)\n",
    "          if self.bn==True:\n",
    "            batch_norm_param={'mode':mode}\n",
    "            out,conv_cache[l]=conv_forward_naive(X,self.params['w'+str(l)],self.params['b'+str(l)],self.param_st[param_st])\n",
    "            out,batch_cache[l]=spatial_batchnorm_forward(out,self.params['gamma'+str(l)],self.params['beta'+str(l)],batch_norm_param)\n",
    "            out,relu_cache[l]=relu_forward(out)\n",
    "            X=out\n",
    "          elif self.bn==False:\n",
    "            out,conv_cache[l]=conv_forward_naive(X,self.params['w'+str(l)],self.params['b'+str(l)],self.param_st[param_st])\n",
    "            out,relu_cache[l]=relu_forward(out)\n",
    "            X=out\n",
    "        out,global_pooling_cache=global_avg_pool_forward(X)\n",
    "        out,affine_cache=affine_forward(out,self.params['w_aff'],self.params['b_aff'])\n",
    "        scores=out\n",
    "         \n",
    "\n",
    "\n",
    "\n",
    "\n",
    "        ############################################################################\n",
    "        #                             END OF YOUR CODE                             #\n",
    "        ############################################################################\n",
    "\n",
    "        if y is None:\n",
    "            return scores\n",
    "\n",
    "        loss, grads = 0, {}\n",
    "        ############################################################################\n",
    "        # TODO: Implement the backward pass for the simple convolutional net,      #\n",
    "        # storing the loss and gradients in the loss and grads variables. Compute  #\n",
    "        # data loss using softmax, and make sure that grads[k] holds the gradients #\n",
    "        # for self.params[k]. Don't forget to add L2 regularization!               #\n",
    "        #                                                                          #\n",
    "        # NOTE: To ensure that your implementation matches ours and you pass the   #\n",
    "        # automated tests, make sure that your L2 regularization includes a factor #\n",
    "        # of 0.5 to simplify the expression for the gradient.                      #\n",
    "        ############################################################################\n",
    "       # raise NotImplementedError\n",
    "        loss,dout=softmax_loss(out,y)\n",
    "        dx_affine,grads['w_aff'],grads['b_aff']=affine_backward(dout,affine_cache)\n",
    "        loss += 0.5*self.reg*(np.sum((self.params['w_aff'])**2))\n",
    "        grads['w_aff'] +=self.reg*self.params['w_aff']\n",
    "        dx_avgpool=global_avg_pool_backward(dx_affine,global_pooling_cache)\n",
    "\n",
    "        tra_l=reversed(list(range(self.M)))\n",
    "\n",
    "        dx_first=dx_avgpool\n",
    "        for l in tra_l:\n",
    "          # print('no of iter backward pass is',l)\n",
    "          params='param'+ str(l)\n",
    "        \n",
    "          if self.bn==True:\n",
    "            dx_relu=relu_backward(dx_first,relu_cache[l])\n",
    "            dx_bn,grads['gamma'+str(l)],grads['beta'+str(l)]=spatial_batchnorm_backward(dx_relu,batch_cache[l])\n",
    "            dx_first,grads['w'+str(l)],grads['b'+str(l)]=conv_backward_naive(dx_bn,conv_cache[l])\n",
    "            loss +=0.5*self.reg*(np.sum((self.params['w'+str(l)])**2))\n",
    "            grads['w'+str(l)] +=self.reg*self.params['w'+str(l)]\n",
    "          else:\n",
    "            dx_relu=relu_backward(dx_first,relu_cache[l])\n",
    "            dx_first,grads['w'+str(l)],grads['b'+str(l)]=conv_backward_naive(dx_relu,conv_cache[l])\n",
    "            loss +=0.5*self.reg*(np.sum((self.params['w'+str(l)])**2))\n",
    "            grads['w'+str(l)] +=self.reg*self.params['w'+str(l)]\n",
    "\n",
    "        ############################################################################\n",
    "        #                             END OF YOUR CODE                             #\n",
    "        ############################################################################\n",
    "\n",
    "        return loss, grads\n"
   ]
  },
  {
   "cell_type": "markdown",
   "metadata": {},
   "source": [
    "### Sanity check loss\n",
    "<font size='4'>After you build a new network, one of the first things you should do is sanity check the loss. When we use the softmax loss, we expect the loss for random weights (and no regularization) to be about `log(C)` for `C` classes. When we add regularization this should go up."
   ]
  },
  {
   "cell_type": "code",
   "execution_count": 21,
   "metadata": {},
   "outputs": [
    {
     "name": "stdout",
     "output_type": "stream",
     "text": [
      "Initial loss (no regularization):  2.3027736299800576\n",
      "log(10):  2.302585092994046\n",
      "Initial loss (with regularization):  2.3040383152356494\n"
     ]
    }
   ],
   "source": [
    "model = ConvNet()\n",
    "\n",
    "N = 50\n",
    "X = np.random.randn(N, 3, 32, 32)\n",
    "y = np.random.randint(10, size=N)\n",
    "\n",
    "loss, grads = model.loss(X, y)\n",
    "print('Initial loss (no regularization): ', loss)\n",
    "print('log(10): ', np.log(10))\n",
    "\n",
    "model.reg = 0.5\n",
    "loss, grads = model.loss(X, y)\n",
    "print('Initial loss (with regularization): ', loss)"
   ]
  },
  {
   "cell_type": "markdown",
   "metadata": {},
   "source": [
    "### Gradient check\n",
    "<font size='4'>After the loss looks reasonable, use numeric gradient checking to make sure that your backward pass is correct. When you use numeric gradient checking you should use a small amount of artifical data and a small number of neurons at each layer. Note: correct implementations may still have relative errors up to the order of e-2."
   ]
  },
  {
   "cell_type": "code",
   "execution_count": 22,
   "metadata": {},
   "outputs": [
    {
     "name": "stdout",
     "output_type": "stream",
     "text": [
      "b0 max relative error: 1.191538e-08\n",
      "b_aff max relative error: 1.025436e-09\n",
      "beta0 max relative error: 5.191426e-06\n",
      "gamma0 max relative error: 2.591660e-06\n",
      "w0 max relative error: 4.718678e-02\n",
      "w_aff max relative error: 5.431893e-09\n"
     ]
    }
   ],
   "source": [
    "num_inputs = 2\n",
    "input_dim = (3, 8, 8)\n",
    "reg = 0.0\n",
    "num_classes = 10\n",
    "np.random.seed(231)\n",
    "X = np.random.randn(num_inputs, *input_dim)\n",
    "y = np.random.randint(num_classes, size=num_inputs)\n",
    "\n",
    "model = ConvNet(input_dim=input_dim, dtype=np.float64)\n",
    "loss, grads = model.loss(X, y)\n",
    "# Errors should be small, but correct implementations may have\n",
    "# relative errors up to the order of e-2\n",
    "for param_name in sorted(grads):\n",
    "    f = lambda _: model.loss(X, y)[0]\n",
    "    param_grad_num = eval_numerical_gradient(f, model.params[param_name], verbose=False, h=1e-6)\n",
    "    e = rel_error(param_grad_num, grads[param_name])\n",
    "    print('%s max relative error: %e' % (param_name, rel_error(param_grad_num, grads[param_name])))"
   ]
  },
  {
   "cell_type": "markdown",
   "metadata": {},
   "source": [
    "### Overfit small data\n",
    "<font size='4'>A nice trick is to train your model with just a few training samples. You should be able to overfit small datasets, which will result in high training accuracy and comparatively low validation accuracy.\n",
    "\n",
    "<font size='4'>Here, due to the limited training epochs, we are not really able to overfit the training data with a 100% training accuracy. You should be able to achieve around 50% training accuracy and 19% validation accuracy."
   ]
  },
  {
   "cell_type": "code",
   "execution_count": 23,
   "metadata": {},
   "outputs": [
    {
     "name": "stdout",
     "output_type": "stream",
     "text": [
      "(Iteration 1 / 200) loss: 2.320509\n",
      "(Epoch 0 / 50) train acc: 0.110000; val_acc: 0.108000\n",
      "(Epoch 1 / 50) train acc: 0.140000; val_acc: 0.108000\n",
      "(Epoch 2 / 50) train acc: 0.130000; val_acc: 0.114000\n",
      "(Iteration 11 / 200) loss: 2.063006\n",
      "(Epoch 3 / 50) train acc: 0.220000; val_acc: 0.121000\n",
      "(Epoch 4 / 50) train acc: 0.230000; val_acc: 0.115000\n",
      "(Epoch 5 / 50) train acc: 0.230000; val_acc: 0.134000\n",
      "(Iteration 21 / 200) loss: 1.940772\n",
      "(Epoch 6 / 50) train acc: 0.200000; val_acc: 0.128000\n",
      "(Epoch 7 / 50) train acc: 0.220000; val_acc: 0.131000\n",
      "(Iteration 31 / 200) loss: 2.099861\n",
      "(Epoch 8 / 50) train acc: 0.190000; val_acc: 0.133000\n",
      "(Epoch 9 / 50) train acc: 0.180000; val_acc: 0.133000\n",
      "(Epoch 10 / 50) train acc: 0.190000; val_acc: 0.091000\n",
      "(Iteration 41 / 200) loss: 2.042706\n",
      "(Epoch 11 / 50) train acc: 0.230000; val_acc: 0.139000\n",
      "(Epoch 12 / 50) train acc: 0.270000; val_acc: 0.142000\n",
      "(Iteration 51 / 200) loss: 1.729439\n",
      "(Epoch 13 / 50) train acc: 0.270000; val_acc: 0.137000\n",
      "(Epoch 14 / 50) train acc: 0.240000; val_acc: 0.124000\n",
      "(Epoch 15 / 50) train acc: 0.180000; val_acc: 0.097000\n",
      "(Iteration 61 / 200) loss: 1.869452\n",
      "(Epoch 16 / 50) train acc: 0.220000; val_acc: 0.115000\n",
      "(Epoch 17 / 50) train acc: 0.240000; val_acc: 0.130000\n",
      "(Iteration 71 / 200) loss: 2.038145\n",
      "(Epoch 18 / 50) train acc: 0.230000; val_acc: 0.137000\n",
      "(Epoch 19 / 50) train acc: 0.190000; val_acc: 0.127000\n",
      "(Epoch 20 / 50) train acc: 0.250000; val_acc: 0.153000\n",
      "(Iteration 81 / 200) loss: 1.679387\n",
      "(Epoch 21 / 50) train acc: 0.200000; val_acc: 0.144000\n",
      "(Epoch 22 / 50) train acc: 0.200000; val_acc: 0.131000\n",
      "(Iteration 91 / 200) loss: 1.865429\n",
      "(Epoch 23 / 50) train acc: 0.220000; val_acc: 0.109000\n",
      "(Epoch 24 / 50) train acc: 0.210000; val_acc: 0.125000\n",
      "(Epoch 25 / 50) train acc: 0.170000; val_acc: 0.094000\n",
      "(Iteration 101 / 200) loss: 1.604315\n",
      "(Epoch 26 / 50) train acc: 0.160000; val_acc: 0.101000\n",
      "(Epoch 27 / 50) train acc: 0.160000; val_acc: 0.104000\n",
      "(Iteration 111 / 200) loss: 1.761664\n",
      "(Epoch 28 / 50) train acc: 0.170000; val_acc: 0.105000\n",
      "(Epoch 29 / 50) train acc: 0.150000; val_acc: 0.105000\n",
      "(Epoch 30 / 50) train acc: 0.180000; val_acc: 0.108000\n",
      "(Iteration 121 / 200) loss: 1.732744\n",
      "(Epoch 31 / 50) train acc: 0.210000; val_acc: 0.164000\n",
      "(Epoch 32 / 50) train acc: 0.190000; val_acc: 0.143000\n",
      "(Iteration 131 / 200) loss: 1.439815\n",
      "(Epoch 33 / 50) train acc: 0.210000; val_acc: 0.154000\n",
      "(Epoch 34 / 50) train acc: 0.200000; val_acc: 0.141000\n",
      "(Epoch 35 / 50) train acc: 0.160000; val_acc: 0.119000\n",
      "(Iteration 141 / 200) loss: 1.594656\n",
      "(Epoch 36 / 50) train acc: 0.200000; val_acc: 0.127000\n",
      "(Epoch 37 / 50) train acc: 0.210000; val_acc: 0.137000\n",
      "(Iteration 151 / 200) loss: 1.645832\n",
      "(Epoch 38 / 50) train acc: 0.240000; val_acc: 0.159000\n",
      "(Epoch 39 / 50) train acc: 0.180000; val_acc: 0.164000\n",
      "(Epoch 40 / 50) train acc: 0.220000; val_acc: 0.156000\n",
      "(Iteration 161 / 200) loss: 1.613540\n",
      "(Epoch 41 / 50) train acc: 0.190000; val_acc: 0.160000\n",
      "(Epoch 42 / 50) train acc: 0.180000; val_acc: 0.143000\n",
      "(Iteration 171 / 200) loss: 1.585670\n",
      "(Epoch 43 / 50) train acc: 0.200000; val_acc: 0.144000\n",
      "(Epoch 44 / 50) train acc: 0.170000; val_acc: 0.133000\n",
      "(Epoch 45 / 50) train acc: 0.210000; val_acc: 0.137000\n",
      "(Iteration 181 / 200) loss: 1.347517\n",
      "(Epoch 46 / 50) train acc: 0.260000; val_acc: 0.173000\n",
      "(Epoch 47 / 50) train acc: 0.300000; val_acc: 0.187000\n",
      "(Iteration 191 / 200) loss: 1.450812\n",
      "(Epoch 48 / 50) train acc: 0.280000; val_acc: 0.174000\n",
      "(Epoch 49 / 50) train acc: 0.300000; val_acc: 0.174000\n",
      "(Epoch 50 / 50) train acc: 0.290000; val_acc: 0.158000\n"
     ]
    }
   ],
   "source": [
    "np.random.seed(231)\n",
    "\n",
    "num_train = 100\n",
    "small_data = {\n",
    "  'X_train': data['X_train'][:num_train],\n",
    "  'y_train': data['y_train'][:num_train],\n",
    "  'X_val': data['X_val'],\n",
    "  'y_val': data['y_val'],\n",
    "}\n",
    "\n",
    "model = ConvNet(\n",
    "    num_filters=[ 32,32],\n",
    "    filter_sizes=[3,3],\n",
    "    weight_scale=8e-2\n",
    " \n",
    ")\n",
    "\n",
    "solver = Solver(\n",
    "    model, small_data,\n",
    "    num_epochs=50, batch_size=25,\n",
    "    update_rule='sgd_momentum',\n",
    "    optim_config={\n",
    "      'learning_rate': 4e-2,\n",
    "    },\n",
    "    verbose=True, print_every=10\n",
    ")\n",
    "solver.train()\n"
   ]
  },
  {
   "cell_type": "code",
   "execution_count": 24,
   "metadata": {},
   "outputs": [
    {
     "data": {
      "image/png": "[encoded data removed]",
      "text/plain": [
       "<Figure size 1000x800 with 2 Axes>"
      ]
     },
     "metadata": {},
     "output_type": "display_data"
    }
   ],
   "source": [
    "# Plotting the loss, training accuracy, and validation accuracy should show clear overfitting:\n",
    "plt.subplot(2, 1, 1)\n",
    "plt.plot(solver.loss_history, 'o')\n",
    "plt.xlabel('iteration')\n",
    "plt.ylabel('loss')\n",
    "\n",
    "plt.subplot(2, 1, 2)\n",
    "plt.plot(solver.train_acc_history, '-o')\n",
    "plt.plot(solver.val_acc_history, '-o')\n",
    "plt.legend(['train', 'val'], loc='upper left')\n",
    "plt.xlabel('epoch')\n",
    "plt.ylabel('accuracy')\n",
    "plt.show()"
   ]
  },
  {
   "cell_type": "markdown",
   "metadata": {},
   "source": [
    "<font size='4' color='red'>**4.2: Train a good CNN (10 points).**\n",
    "    \n",
    "<font size='4'>By tweaking different hyper parameters, such as number of convolution layers, number of filters (channels), learning rate, batch size, etc, you should achieve greater than 62% accuracy on the validation set **with 3 epochs using the sgd_momentum optimizer**.\n",
    "    \n",
    "<font size='4'>If you are really careful, you should be able to get nearly 66% accuracy on the validation set. But we don't give extra credits for doing so.\n",
    "    \n",
    "<font size='4'>It may take a quite while for your training to be finished. **Do not use more than four convolution layers. Your training shouldn't be longer than one hour.** (This is a rough reference as it depends on the hardware. Our implementation takes less than 10 minutes to finish.)\n",
    "    \n",
    "<font size='4'>Use a large filter/kernel size in the first convolution layer (for example, 7), so you can easily visualize the learend filters.\n",
    "    \n",
    "<font size='4'>Since it is relatively slower to train a CNN, you can simply report the best hyper parameters you found. You need report validation accuracy of other choices below.\n",
    "    \n",
    "<font size='4' color='red'>For debuging purpose, you can simply train the model for a single epoch. As a reference, both your training and validation accuracy should be around 50% (could be slightly lower or higher). Once you figure a good setting, train the model for 3 epochs."
   ]
  },
  {
   "cell_type": "code",
   "execution_count": 25,
   "metadata": {
    "scrolled": false
   },
   "outputs": [
    {
     "name": "stdout",
     "output_type": "stream",
     "text": [
      "(Iteration 1 / 39) loss: 2.298742\n",
      "(Epoch 0 / 3) train acc: 0.093000; val_acc: 0.073000\n",
      "(Iteration 11 / 39) loss: 2.224563\n",
      "(Epoch 1 / 3) train acc: 0.146000; val_acc: 0.131000\n",
      "(Iteration 21 / 39) loss: 2.050658\n",
      "(Epoch 2 / 3) train acc: 0.187000; val_acc: 0.184000\n",
      "(Iteration 31 / 39) loss: 1.996140\n",
      "(Epoch 3 / 3) train acc: 0.165000; val_acc: 0.169000\n"
     ]
    }
   ],
   "source": [
    "best_model = None\n",
    "model = None\n",
    "validation_test_accuracy = 0.0\n",
    "################################################################################\n",
    "# TODO: Train the best ConvNet that you can on CIFAR-10 with 3 epochs using    #\n",
    "# the sgd_momentum optimizer. Store your best model in the model variable.     #\n",
    "################################################################################\n",
    "\n",
    "# raise NotImplementedError\n",
    "\n",
    "np.random.seed(231)\n",
    "\n",
    "num_train = 1000\n",
    "small_data = {\n",
    "  'X_train': data['X_train'][:num_train],\n",
    "  'y_train': data['y_train'][:num_train],\n",
    "  'X_val': data['X_val'],\n",
    "  'y_val': data['y_val'],\n",
    "}\n",
    "\n",
    "model = ConvNet(\n",
    "    num_filters=[32, 32],\n",
    "    filter_sizes=[5,5],\n",
    "    weight_scale=1e-2\n",
    "\n",
    ")\n",
    "\n",
    "solver = Solver(\n",
    "    model, small_data,\n",
    "    num_epochs=3, batch_size=75,\n",
    "    update_rule='sgd_momentum',\n",
    "    optim_config={\n",
    "      'learning_rate': 5e-2,\n",
    "    },\n",
    "    verbose=True, print_every=10\n",
    ")\n",
    "solver.train()\n",
    "\n",
    "\n",
    "################################################################################\n",
    "#                              END OF YOUR CODE                                #\n",
    "################################################################################\n",
    "\n",
    "best_model = model\n",
    "best_model.params.update(solver.best_params)"
   ]
  },
  {
   "cell_type": "code",
   "execution_count": 26,
   "metadata": {},
   "outputs": [
    {
     "name": "stdout",
     "output_type": "stream",
     "text": [
      "Validation set accuracy:  0.184\n",
      "Test set accuracy:  0.161\n"
     ]
    }
   ],
   "source": [
    "# Run your best model on the validation and test sets. You should achieve above 62% accuracy on the validation set.\n",
    "y_test_pred = np.argmax(best_model.loss(data['X_test']), axis=1)\n",
    "y_val_pred = np.argmax(best_model.loss(data['X_val']), axis=1)\n",
    "print('Validation set accuracy: ', (y_val_pred == data['y_val']).mean())\n",
    "print('Test set accuracy: ', (y_test_pred == data['y_test']).mean())"
   ]
  },
  {
   "cell_type": "markdown",
   "metadata": {},
   "source": [
    "### Visualize Filters"
   ]
  },
  {
   "cell_type": "code",
   "execution_count": 31,
   "metadata": {
    "scrolled": true
   },
   "outputs": [
    {
     "data": {
      "image/png": "[encoded data removed]",
      "text/plain": [
       "<Figure size 500x500 with 1 Axes>"
      ]
     },
     "metadata": {},
     "output_type": "display_data"
    }
   ],
   "source": [
    "# You can visualize the first-layer convolutional filters from the trained network by running the following:\n",
    "from utils.vis_utils import visualize_grid\n",
    "grid = visualize_grid(model.params['w0'].transpose(0, 2, 3, 1))\n",
    "plt.imshow(grid.astype('uint8'))\n",
    "plt.axis('off')\n",
    "plt.gcf().set_size_inches(5, 5)\n",
    "plt.show()"
   ]
  },
  {
   "cell_type": "markdown",
   "metadata": {},
   "source": [
    "<font size='4' color='red'>**Task 4.3: report validation accuray for other hyper parameters you have tried (2 points)**"
   ]
  },
  {
   "cell_type": "markdown",
   "metadata": {},
   "source": [
    "1. Set 1:\n",
    "  num_filters=[16, 32],\n",
    "      filter_sizes=[7,5],\n",
    "      weight_scale=1e-2\n",
    "      batch_size=50,\n",
    "      optim_config={\n",
    "        'learning_rate': 5e-2,\n",
    "\n",
    "        Validation accuracy= 10.7 %\n",
    "\n",
    "  num_filters=[16, 32],\n",
    "      filter_sizes=[5, 5],\n",
    "      weight_scale=4e-2\n",
    "      batch_size=50,\n",
    "      optim_config={\n",
    "        'learning_rate': 5e-2,    \n",
    "\n",
    "          Validation accuracy=12 %\n",
    "\n",
    "\n",
    "  num_filters=[16, 32,32,32],\n",
    "      filter_sizes=[7, 7,5,5],\n",
    "      weight_scale=1e-2\n",
    "      batch_size=50,\n",
    "      optim_config={\n",
    "        'learning_rate': 5e-2,    \n",
    "\n",
    "          Validation accuracy=11.9 %\n",
    "\n",
    "\n",
    "  num_filters=[16, 32],\n",
    "      filter_sizes=[7, 3],\n",
    "      weight_scale=1e-2\n",
    "      batch_size=50,\n",
    "      optim_config={\n",
    "        'learning_rate': 5e-2,    \n",
    "\n",
    "          Validation accuracy= 12.1 %\n",
    "\n",
    "\n",
    "\n",
    "  num_filters=[16, 32],\n",
    "      filter_sizes=[3, 5],\n",
    "      weight_scale=1e-2\n",
    "      batch_size=50,\n",
    "      optim_config={\n",
    "        'learning_rate': 5e-2,    \n",
    "\n",
    "          Validation accuracy= 12.6 %\n",
    "\n",
    "\n",
    "\n",
    "  num_filters=[16, 32],\n",
    "      filter_sizes=[5, 5],\n",
    "      weight_scale=4e-2\n",
    "      batch_size=50,\n",
    "      optim_config={\n",
    "        'learning_rate': 5e-2,    \n",
    "\n",
    "          Validation accuracy= 12.5%\n",
    "\n",
    "\n",
    "\n",
    "  num_filters=[32, 32],\n",
    "      filter_sizes=[5, 5],\n",
    "      weight_scale=1e-2\n",
    "      batch_size=75,\n",
    "      optim_config={\n",
    "        'learning_rate': 5e-2,    \n",
    "\n",
    "          Validation accuracy= %\n",
    "\n",
    "\n",
    "  num_filters=[64, 64],\n",
    "      filter_sizes=[7, 7],\n",
    "      weight_scale=1e-2\n",
    "      batch_size=75,\n",
    "      optim_config={\n",
    "        'learning_rate': 5e-2,    \n",
    "\n",
    "          Validation accuracy= 11.9%\n",
    "\n",
    "\n",
    "\n",
    "  num_filters=[16, 32,32,32],\n",
    "      filter_sizes=[7, 7,5,5],\n",
    "      weight_scale=1e-2\n",
    "      batch_size=100,\n",
    "      optim_config={\n",
    "        'learning_rate': 5e-2,    \n",
    "\n",
    "          Validation accuracy=11.9 %\n",
    "\n",
    "  num_filters=[32,32],\n",
    "    filter_sizes=[5, 5],\n",
    "    weight_scale=1e-2\n",
    "    batch_size=75,\n",
    "    update_rule='sgd_momentum',\n",
    "    optim_config={\n",
    "      'learning_rate': 5e-2,\n",
    "\n",
    "      Validation accuracy=18.4% \n"
   ]
  },
  {
   "cell_type": "markdown",
   "metadata": {},
   "source": [
    "<font size='4' color='red'>**Task 4.4: train a ConvNet without using batch normalization layers (4 points).**\n",
    "    \n",
    "<font size='4'>Report the best validation accuracy you can get and discuss how it is different from the version with batch normalization layers."
   ]
  },
  {
   "cell_type": "code",
   "execution_count": 32,
   "metadata": {},
   "outputs": [
    {
     "name": "stdout",
     "output_type": "stream",
     "text": [
      "(Iteration 1 / 3) loss: 2.305342\n",
      "(Epoch 1 / 3) train acc: 0.110000; val_acc: 0.122000\n",
      "(Epoch 2 / 3) train acc: 0.150000; val_acc: 0.125000\n",
      "(Epoch 3 / 3) train acc: 0.130000; val_acc: 0.111000\n",
      "Best Validation accuracy is: 0.125\n"
     ]
    }
   ],
   "source": [
    "best_model = None\n",
    "model = None\n",
    "validation_test_accuracy = 0.0\n",
    "################################################################################\n",
    "# TODO: Train the best ConvNet that you can on CIFAR-10 with 3 epochs using    #\n",
    "# the sgd_momentum optimizer. Store your best model in the model variable.     #\n",
    "################################################################################\n",
    "\n",
    "# raise NotImplementedError\n",
    "\n",
    "np.random.seed(231)\n",
    "\n",
    "num_train = 100\n",
    "small_data = {\n",
    "  'X_train': data['X_train'][:num_train],\n",
    "  'y_train': data['y_train'][:num_train],\n",
    "  'X_val': data['X_val'],\n",
    "  'y_val': data['y_val'],\n",
    "}\n",
    "\n",
    "model = ConvNet(\n",
    "    num_filters=[32, 32],\n",
    "    filter_sizes=[5,5],\n",
    "    weight_scale=1e-2,\n",
    "    use_batch_norm=False\n",
    "\n",
    ")\n",
    "\n",
    "solver = Solver(\n",
    "    model, small_data,\n",
    "    num_epochs=3, batch_size=75,\n",
    "    update_rule='sgd_momentum',\n",
    "    optim_config={\n",
    "      'learning_rate': 5e-2,\n",
    "    },\n",
    "    verbose=True, print_every=10\n",
    ")\n",
    "solver.train()\n",
    " \n",
    "validation_test_accuracy=solver.best_val_acc           \n",
    "print (\"Best Validation accuracy is: \" + str(validation_test_accuracy ))\n",
    "\n",
    "################################################################################\n",
    "#                              END OF YOUR CODE                                #\n",
    "################################################################################\n",
    "\n",
    "best_model = model\n",
    "best_model.params.update(solver.best_params)"
   ]
  },
  {
   "cell_type": "markdown",
   "metadata": {},
   "source": [
    "This model does not normalize data in batches after convolution layer. Instead, it directly passes whole dataset to relu layer. It performed faster but acheived lower accuracy for same hyperparameters."
   ]
  }
 ],
 "metadata": {
  "kernelspec": {
   "display_name": "Python 3 (ipykernel)",
   "language": "python",
   "name": "python3"
  },
  "language_info": {
   "codemirror_mode": {
    "name": "ipython",
    "version": 3
   },
   "file_extension": ".py",
   "mimetype": "text/x-python",
   "name": "python",
   "nbconvert_exporter": "python",
   "pygments_lexer": "ipython3",
   "version": "3.8.10"
  },
  "vscode": {
   "interpreter": {
    "hash": "31f2aee4e71d21fbe5cf8b01ff0e069b9275f58929596ceb00d14d90e3e16cd6"
   }
  }
 },
 "nbformat": 4,
 "nbformat_minor": 2
}
